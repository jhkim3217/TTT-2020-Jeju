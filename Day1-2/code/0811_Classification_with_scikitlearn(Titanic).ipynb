{
  "nbformat": 4,
  "nbformat_minor": 0,
  "metadata": {
    "kernelspec": {
      "name": "python36",
      "display_name": "Python 3.6",
      "language": "python"
    },
    "language_info": {
      "mimetype": "text/x-python",
      "nbconvert_exporter": "python",
      "name": "python",
      "pygments_lexer": "ipython3",
      "version": "3.6.6",
      "file_extension": ".py",
      "codemirror_mode": {
        "version": 3,
        "name": "ipython"
      }
    },
    "colab": {
      "name": "0811_Classification_with_scikitlearn(Titanic).ipynb",
      "provenance": [],
      "collapsed_sections": []
    }
  },
  "cells": [
    {
      "cell_type": "markdown",
      "metadata": {
        "id": "wpjgOJc_Uc4h",
        "colab_type": "text"
      },
      "source": [
        "# scikit-learn을 활용한 타이타닉 탑승객 생존 예측 Classification"
      ]
    },
    {
      "cell_type": "code",
      "metadata": {
        "id": "ADnDry-rUg58",
        "colab_type": "code",
        "colab": {}
      },
      "source": [
        "# Upload Files\n",
        "from google.colab import drive\n",
        "drive.mount('drive')"
      ],
      "execution_count": null,
      "outputs": []
    },
    {
      "cell_type": "code",
      "metadata": {
        "trusted": true,
        "id": "iQh-XIEeUc4l",
        "colab_type": "code",
        "colab": {}
      },
      "source": [
        "#1. 데이터 불러오기\n",
        "\n",
        "import pandas as pd\n",
        "\n",
        "data = pd.read_csv('/content/drive/My Drive/Titanic_dataset.csv')\n",
        "data.head()"
      ],
      "execution_count": null,
      "outputs": []
    },
    {
      "cell_type": "code",
      "metadata": {
        "trusted": true,
        "id": "y6W_6ylVUc4x",
        "colab_type": "code",
        "colab": {}
      },
      "source": [
        "#2. 데이터 확인하기\n",
        "\n",
        "data.describe(include='all')"
      ],
      "execution_count": null,
      "outputs": []
    },
    {
      "cell_type": "code",
      "metadata": {
        "trusted": true,
        "id": "bOpYsOrkUc45",
        "colab_type": "code",
        "colab": {}
      },
      "source": [
        "#3. 빠진 값 확인\n",
        "\n",
        "data.isnull().sum()"
      ],
      "execution_count": null,
      "outputs": []
    },
    {
      "cell_type": "code",
      "metadata": {
        "trusted": true,
        "id": "JUQWDhI-Uc4_",
        "colab_type": "code",
        "colab": {}
      },
      "source": [
        "#4. 사용하지 않을 feature 제거\n",
        "data.drop(['cabin', 'boat', 'body', 'home.dest', 'name', 'ticket'], axis=1, inplace=True)"
      ],
      "execution_count": null,
      "outputs": []
    },
    {
      "cell_type": "code",
      "metadata": {
        "trusted": true,
        "id": "9GFDtT5HUc5D",
        "colab_type": "code",
        "colab": {}
      },
      "source": [
        "data.info()"
      ],
      "execution_count": null,
      "outputs": []
    },
    {
      "cell_type": "code",
      "metadata": {
        "trusted": true,
        "id": "uih_xY2YUc5I",
        "colab_type": "code",
        "colab": {}
      },
      "source": [
        "data.isnull().sum()"
      ],
      "execution_count": null,
      "outputs": []
    },
    {
      "cell_type": "code",
      "metadata": {
        "trusted": true,
        "id": "HU4XOrk3Uc5Q",
        "colab_type": "code",
        "colab": {}
      },
      "source": [
        "#5. Fare\n",
        "\n",
        "data.fare.mean()"
      ],
      "execution_count": null,
      "outputs": []
    },
    {
      "cell_type": "code",
      "metadata": {
        "trusted": true,
        "id": "cx15JZHrUc5W",
        "colab_type": "code",
        "colab": {}
      },
      "source": [
        "data.loc[data.fare.isnull(), 'fare'] = data.fare.mean()\n",
        "data.isnull().sum()"
      ],
      "execution_count": null,
      "outputs": []
    },
    {
      "cell_type": "code",
      "metadata": {
        "trusted": true,
        "id": "TtOmNtSlUc5b",
        "colab_type": "code",
        "colab": {}
      },
      "source": [
        "#6 Age\n",
        "\n",
        "data.age.mean()"
      ],
      "execution_count": null,
      "outputs": []
    },
    {
      "cell_type": "code",
      "metadata": {
        "trusted": true,
        "id": "-h_NctQDUc5g",
        "colab_type": "code",
        "colab": {}
      },
      "source": [
        "data.loc[data.age.isnull(), 'age'] = data.age.mean()\n",
        "data.isnull().sum()"
      ],
      "execution_count": null,
      "outputs": []
    },
    {
      "cell_type": "code",
      "metadata": {
        "trusted": true,
        "id": "l3H-VZLiUc5l",
        "colab_type": "code",
        "colab": {}
      },
      "source": [
        "#7. embarked\n",
        "\n",
        "data.groupby('embarked').size()"
      ],
      "execution_count": null,
      "outputs": []
    },
    {
      "cell_type": "code",
      "metadata": {
        "trusted": true,
        "id": "5RY7zaqfUc5p",
        "colab_type": "code",
        "colab": {}
      },
      "source": [
        "data.loc[data.embarked.isnull(), 'embarked'] = 'S'\n",
        "data.isnull().sum()"
      ],
      "execution_count": null,
      "outputs": []
    },
    {
      "cell_type": "code",
      "metadata": {
        "trusted": true,
        "id": "L20zaD8AUc5x",
        "colab_type": "code",
        "colab": {}
      },
      "source": [
        "#8. 시각화\n",
        "import seaborn as sns\n",
        "import matplotlib.pyplot as plt"
      ],
      "execution_count": null,
      "outputs": []
    },
    {
      "cell_type": "code",
      "metadata": {
        "trusted": true,
        "id": "aK8-TmaKUc58",
        "colab_type": "code",
        "colab": {}
      },
      "source": [
        "data.survived.value_counts(normalize=True)"
      ],
      "execution_count": null,
      "outputs": []
    },
    {
      "cell_type": "code",
      "metadata": {
        "trusted": true,
        "id": "gsBRgUYiUc6I",
        "colab_type": "code",
        "colab": {}
      },
      "source": [
        "sns.countplot(data.survived)\n",
        "plt.title('Count of survived')"
      ],
      "execution_count": null,
      "outputs": []
    },
    {
      "cell_type": "code",
      "metadata": {
        "trusted": true,
        "id": "G5RxKjVqUc6M",
        "colab_type": "code",
        "colab": {}
      },
      "source": [
        "# 8-1. 성별에 따른 생존자 수\n",
        "sns.countplot(data.gender, hue=data.survived)\n",
        "plt.title('Relationship between Gender and Survived')"
      ],
      "execution_count": null,
      "outputs": []
    },
    {
      "cell_type": "markdown",
      "metadata": {
        "id": "6Rv-46jvUc6T",
        "colab_type": "text"
      },
      "source": [
        "여성일 경우 생존할 확률이 남성에 비해 2배 가량 높다"
      ]
    },
    {
      "cell_type": "code",
      "metadata": {
        "trusted": true,
        "id": "_kGaVHKiUc6T",
        "colab_type": "code",
        "colab": {}
      },
      "source": [
        "#8-2 선실 등급에 따른 생존여부\n",
        "\n",
        "sns.kdeplot(data.pclass, data.survived)\n",
        "plt.title('Relationship between Class and Survived')"
      ],
      "execution_count": null,
      "outputs": []
    },
    {
      "cell_type": "markdown",
      "metadata": {
        "id": "y1Ia4AOiUc6a",
        "colab_type": "text"
      },
      "source": [
        "선실등급이 3등급일 때는 생존하지 못하는 사람의 비율이, 1등급일때는 생존하는 사람의 비율이 높다"
      ]
    },
    {
      "cell_type": "code",
      "metadata": {
        "id": "wrxrreVuZGLa",
        "colab_type": "code",
        "colab": {}
      },
      "source": [
        "#8-3. Feature Heatmap\n",
        "plt.figure(figsize=(14,12))\n",
        "sns.heatmap(data.corr(),linewidths=0.1, \n",
        "            linecolor='white', annot=True)\n",
        "plt.show()"
      ],
      "execution_count": null,
      "outputs": []
    },
    {
      "cell_type": "code",
      "metadata": {
        "trusted": true,
        "id": "S443vMv5Uc6c",
        "colab_type": "code",
        "colab": {}
      },
      "source": [
        "#9. 데이터 변환\n",
        "data.loc[data.gender == 'male', 'gender'] = 0\n",
        "data.loc[data.gender == 'female', 'gender'] = 1\n",
        "\n",
        "\n",
        "data.loc[data.embarked == 'S', 'embarked'] = 0\n",
        "data.loc[data.embarked == 'Q', 'embarked'] = 1\n",
        "data.loc[data.embarked == 'C', 'embarked'] = 2\n",
        "\n",
        "data.head()"
      ],
      "execution_count": null,
      "outputs": []
    },
    {
      "cell_type": "code",
      "metadata": {
        "trusted": true,
        "id": "LqPvNkQLUc6h",
        "colab_type": "code",
        "colab": {}
      },
      "source": [
        "#10 X/Y  분리\n",
        "\n",
        "X = data.drop('survived', axis=1)\n",
        "Y = data.survived\n",
        "\n",
        "print(X[:5])\n",
        "print(Y[:5])"
      ],
      "execution_count": null,
      "outputs": []
    },
    {
      "cell_type": "code",
      "metadata": {
        "trusted": true,
        "id": "bTlQfecgUc6k",
        "colab_type": "code",
        "colab": {}
      },
      "source": [
        "#11 훈련셋/평가셋 분리\n",
        " \n",
        "from sklearn.model_selection import train_test_split\n",
        "\n",
        "X_train, X_test, Y_train, Y_test = train_test_split(X, Y, test_size=0.2, random_state=109)\n",
        "\n",
        "print(X_train.shape)\n",
        "print(X_test.shape)\n",
        "print(Y_train.shape)\n",
        "print(Y_test.shape)"
      ],
      "execution_count": null,
      "outputs": []
    },
    {
      "cell_type": "code",
      "metadata": {
        "trusted": true,
        "id": "EmiqcnijUc6q",
        "colab_type": "code",
        "colab": {}
      },
      "source": [
        "#12 모델 학습\n",
        "\n",
        "from sklearn.linear_model import LogisticRegression\n",
        "\n",
        "log_classifier = LogisticRegression()\n",
        "log_classifier.fit(X_train, Y_train)\n"
      ],
      "execution_count": null,
      "outputs": []
    },
    {
      "cell_type": "code",
      "metadata": {
        "trusted": true,
        "id": "0ZmcThlRUc6v",
        "colab_type": "code",
        "colab": {}
      },
      "source": [
        "#13. 모델 성능 확인\n",
        "\n",
        "from sklearn.metrics import accuracy_score, recall_score, precision_score\n",
        "\n",
        "y_predict = log_classifier.predict(X_test)\n",
        "acc = accuracy_score(Y_test, y_predict)\n",
        "print(acc)"
      ],
      "execution_count": null,
      "outputs": []
    },
    {
      "cell_type": "code",
      "metadata": {
        "trusted": true,
        "id": "pJiHZ_v5Uc61",
        "colab_type": "code",
        "colab": {}
      },
      "source": [
        "from sklearn.metrics import confusion_matrix\n",
        "\n",
        "cm = confusion_matrix(Y_test, y_predict)\n",
        "sns.heatmap(cm, annot=True, cmap='Blues')\n"
      ],
      "execution_count": null,
      "outputs": []
    },
    {
      "cell_type": "code",
      "metadata": {
        "trusted": true,
        "id": "YFlRXWveUc64",
        "colab_type": "code",
        "colab": {}
      },
      "source": [
        "😊"
      ],
      "execution_count": null,
      "outputs": []
    }
  ]
}